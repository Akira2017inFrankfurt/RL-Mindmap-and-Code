{
 "cells": [
  {
   "cell_type": "code",
   "execution_count": 1,
   "metadata": {},
   "outputs": [
    {
     "name": "stdout",
     "output_type": "stream",
     "text": [
      "3.6.9 (default, Jul 17 2020, 12:50:27) \n",
      "[GCC 8.4.0]\n"
     ]
    }
   ],
   "source": [
    "# 检查jupyter notebook使用的python版本\n",
    "\n",
    "import sys\n",
    "print(sys.version)"
   ]
  },
  {
   "cell_type": "markdown",
   "metadata": {},
   "source": [
    "其实一开始在这上面还折腾了一会儿。\n",
    "\n",
    "原因就是：\n",
    "我在pyharm中新建了虚环境\n",
    "然后之前的代码都是在这个ide里面运行的\n",
    "但是后面在运行DQNDemo.py的时候显示出了问题\n",
    "就是有一个库找不到\n",
    "查了一下 应该是安装paddle的的时候出问题了\n",
    "于是返回百度的这个项目里面，从简单的开始看起\n",
    "\n",
    "\n",
    "所以，一步一步查看的需求出现\n",
    "我就想到了jupyter\n",
    "于是一开始的想法是\n",
    "将pycharm中已经安装好的环境\n",
    "直接导入anaconda\n",
    "但是这个办法不行\n",
    "\n",
    "所以现在这个办法就是\n",
    "在pycharm中直接安装jupyter的包\n",
    "然后在pycharm命令行里面\n",
    "运行命令jupyter-notebook\n",
    "\n",
    "于是就成功使用指定的虚环境了"
   ]
  },
  {
   "cell_type": "code",
   "execution_count": 4,
   "metadata": {
    "collapsed": true
   },
   "outputs": [
    {
     "name": "stdout",
     "output_type": "stream",
     "text": [
      "Package             Version\n",
      "------------------- ---------------\n",
      "absl-py             0.9.0\n",
      "appdirs             1.4.4\n",
      "astor               0.8.1\n",
      "attrs               19.3.0\n",
      "Babel               2.8.0\n",
      "backcall            0.2.0\n",
      "bleach              3.1.5\n",
      "certifi             2020.6.20\n",
      "cfgv                3.1.0\n",
      "chardet             3.0.4\n",
      "click               7.1.2\n",
      "cloudpickle         1.2.1\n",
      "cycler              0.10.0\n",
      "decorator           4.4.2\n",
      "defusedxml          0.6.0\n",
      "distlib             0.3.1\n",
      "entrypoints         0.3\n",
      "filelock            3.0.12\n",
      "flake8              3.8.3\n",
      "Flask               1.1.2\n",
      "Flask-Babel         1.0.0\n",
      "Flask-Cors          3.0.8\n",
      "funcsigs            1.0.2\n",
      "future              0.18.2\n",
      "gast                0.3.3\n",
      "graphviz            0.14.1\n",
      "grpcio              1.30.0\n",
      "gym                 0.17.2\n",
      "identify            1.4.25\n",
      "idna                2.10\n",
      "importlib-metadata  1.7.0\n",
      "importlib-resources 3.0.0\n",
      "ipykernel           5.3.4\n",
      "ipython             7.16.1\n",
      "ipython-genutils    0.2.0\n",
      "ipywidgets          7.5.1\n",
      "itsdangerous        1.1.0\n",
      "jedi                0.17.2\n",
      "Jinja2              2.11.2\n",
      "jsonschema          3.2.0\n",
      "jupyter             1.0.0\n",
      "jupyter-client      6.1.6\n",
      "jupyter-console     6.1.0\n",
      "jupyter-core        4.6.3\n",
      "kiwisolver          1.2.0\n",
      "Markdown            3.2.2\n",
      "MarkupSafe          1.1.1\n",
      "matplotlib          2.2.4\n",
      "mccabe              0.6.1\n",
      "mistune             0.8.4\n",
      "nbconvert           5.6.1\n",
      "nbformat            5.0.7\n",
      "nltk                3.4\n",
      "nodeenv             1.4.0\n",
      "notebook            6.0.3\n",
      "numpy               1.19.1\n",
      "objgraph            3.4.1\n",
      "opencv-python       4.3.0.36\n",
      "packaging           20.4\n",
      "paddlepaddle        1.6.3\n",
      "paddlepaddle-gpu    1.8.3.post107\n",
      "pandocfilters       1.4.2\n",
      "parl                1.3.1\n",
      "parso               0.7.1\n",
      "pathlib             1.0.1\n",
      "pexpect             4.8.0\n",
      "pickleshare         0.7.5\n",
      "Pillow              7.2.0\n",
      "pip                 20.1.1\n",
      "pre-commit          2.6.0\n",
      "prettytable         0.7.2\n",
      "prometheus-client   0.8.0\n",
      "prompt-toolkit      3.0.5\n",
      "protobuf            3.12.2\n",
      "psutil              5.7.2\n",
      "ptyprocess          0.6.0\n",
      "pyarrow             0.13.0\n",
      "pycodestyle         2.6.0\n",
      "pyflakes            2.2.0\n",
      "pyglet              1.5.0\n",
      "Pygments            2.6.1\n",
      "pyparsing           2.4.7\n",
      "pyrsistent          0.16.0\n",
      "python-dateutil     2.8.1\n",
      "pytz                2020.1\n",
      "PyYAML              5.3.1\n",
      "pyzmq               18.0.1\n",
      "qtconsole           4.7.5\n",
      "QtPy                1.9.0\n",
      "rarfile             3.3\n",
      "requests            2.24.0\n",
      "scipy               1.3.1\n",
      "Send2Trash          1.5.0\n",
      "setuptools          49.2.0\n",
      "singledispatch      3.4.0.3\n",
      "six                 1.15.0\n",
      "tb-nightly          1.15.0a20190801\n",
      "tensorboardX        1.8\n",
      "termcolor           1.1.0\n",
      "terminado           0.8.3\n",
      "testpath            0.4.4\n",
      "toml                0.10.1\n",
      "tornado             6.0.4\n",
      "traitlets           4.3.3\n",
      "urllib3             1.25.10\n",
      "virtualenv          20.0.28\n",
      "visualdl            2.0.0b8\n",
      "wcwidth             0.2.5\n",
      "webencodings        0.5.1\n",
      "Werkzeug            1.0.1\n",
      "wheel               0.34.2\n",
      "widgetsnbextension  3.5.1\n",
      "zipp                3.1.0\n",
      "Note: you may need to restart the kernel to use updated packages.\n"
     ]
    }
   ],
   "source": [
    "pip list"
   ]
  },
  {
   "cell_type": "markdown",
   "metadata": {},
   "source": [
    "# 使用Paddle做基本子运算"
   ]
  },
  {
   "cell_type": "code",
   "execution_count": 2,
   "metadata": {},
   "outputs": [],
   "source": [
    "import paddle.fluid as fluid"
   ]
  },
  {
   "cell_type": "code",
   "execution_count": 6,
   "metadata": {},
   "outputs": [],
   "source": [
    "# 定义两个张量\n",
    "x1 = fluid.layers.fill_constant(shape=[2, 2], value=1, dtype='int64')\n",
    "x2 = fluid.layers.fill_constant(shape=[2, 2], value=1, dtype='int64')"
   ]
  },
  {
   "cell_type": "markdown",
   "metadata": {},
   "source": [
    "感触：不要觉得这么简单的例子没有意义。\n",
    "简单的例子，根本不是让你直接去解决这个问题\n",
    "而是看懂别人的操作，知道以后怎么从简单到复杂来利用这个工具做事情\n",
    "切忌眼高手低。\n",
    "\n",
    "一看这个复杂就知道\n",
    "其以后的功能就很强大\n",
    "否则根本没有这么麻烦的必要"
   ]
  },
  {
   "cell_type": "code",
   "execution_count": 7,
   "metadata": {},
   "outputs": [],
   "source": [
    "# 将两个张量求和\n",
    "y1 = fluid.layers.sum(x=[x1, x2])"
   ]
  },
  {
   "cell_type": "markdown",
   "metadata": {},
   "source": [
    "从上面来看，应该就是类似一个计算图之类的东西吧。\n",
    "我先把未知数列出来\n",
    "然后就是这些未知数之间的关系\n",
    "\n",
    "然后下面就是开始告诉你\n",
    "我准备用什么工具来烹饪你"
   ]
  },
  {
   "cell_type": "code",
   "execution_count": 8,
   "metadata": {},
   "outputs": [
    {
     "name": "stderr",
     "output_type": "stream",
     "text": [
      "/home/akira/PycharmProjects/OpenAIDemo/venv/lib/python3.6/site-packages/paddle/fluid/executor.py:1093: UserWarning: There are no operators in the program to be executed. If you pass Program manually, please use fluid.program_guard to ensure the current Program is being used.\n",
      "  warnings.warn(error_info)\n"
     ]
    },
    {
     "data": {
      "text/plain": [
       "[]"
      ]
     },
     "execution_count": 8,
     "metadata": {},
     "output_type": "execute_result"
    }
   ],
   "source": [
    "# 创建一个使用CPU的解释器\n",
    "place = fluid.CPUPlace()\n",
    "exe = fluid.executor.Executor(place)\n",
    "# 进行参数初始化\n",
    "exe.run(fluid.default_startup_program())"
   ]
  },
  {
   "cell_type": "code",
   "execution_count": 9,
   "metadata": {},
   "outputs": [
    {
     "name": "stdout",
     "output_type": "stream",
     "text": [
      "[array([[2, 2],\n",
      "       [2, 2]], dtype=int64)]\n"
     ]
    }
   ],
   "source": [
    "# 进行运算，并把y的结果输出\n",
    "result = exe.run(program=fluid.default_main_program(),\n",
    "                 # 其实下面这个就是告诉输出什么\n",
    "                 fetch_list=[y1])\n",
    "print(result)"
   ]
  },
  {
   "cell_type": "code",
   "execution_count": 3,
   "metadata": {},
   "outputs": [
    {
     "name": "stderr",
     "output_type": "stream",
     "text": [
      "/home/akira/PycharmProjects/OpenAIDemo/venv/lib/python3.6/site-packages/paddle/fluid/executor.py:1093: UserWarning: There are no operators in the program to be executed. If you pass Program manually, please use fluid.program_guard to ensure the current Program is being used.\n",
      "  warnings.warn(error_info)\n"
     ]
    },
    {
     "data": {
      "text/plain": [
       "[]"
      ]
     },
     "execution_count": 3,
     "metadata": {},
     "output_type": "execute_result"
    }
   ],
   "source": [
    "import numpy as np\n",
    "\n",
    "# 定义两个张量，并不指定该张量的形状和值，它们是之后动态赋值的。\n",
    "# 这里只是指定它们的类型和名字，这个名字是我们之后赋值的关键。\n",
    "\n",
    "a = fluid.layers.create_tensor(dtype='int64', name='a')\n",
    "b = fluid.layers.create_tensor(dtype='int64', name='b')\n",
    "y = fluid.layers.sum(x=[a, b])\n",
    "\n",
    "place = fluid.CPUPlace()\n",
    "exe = fluid.executor.Executor(place)\n",
    "# 这里的意思是不是先预热一下，后面的run才是真正的执行\n",
    "exe.run(fluid.default_startup_program())"
   ]
  },
  {
   "cell_type": "code",
   "execution_count": 13,
   "metadata": {},
   "outputs": [
    {
     "name": "stdout",
     "output_type": "stream",
     "text": [
      "[3 2]  +  [1 1]  =  [4 3]\n"
     ]
    }
   ],
   "source": [
    "a1 = np.array([3, 2]).astype('int64')\n",
    "b1 = np.array([1, 1]).astype('int64')\n",
    "\n",
    "out_a, out_b, result = exe.run(\n",
    "    program=fluid.default_main_program(),\n",
    "    # feed参数，这个就是要对张量变量进行赋值的。赋值的方式是使用了键值对的格式\n",
    "    feed={'a': a1, 'b': b1},\n",
    "    # fetch_list参数中，希望把a, b, y的值都输出来，所以要使用3个变量来接受返回值。\n",
    "    fetch_list=[a, b, y]\n",
    ")\n",
    "\n",
    "print(out_a, \" + \", out_b, \" = \", result)"
   ]
  },
  {
   "cell_type": "code",
   "execution_count": 14,
   "metadata": {
    "scrolled": true
   },
   "outputs": [
    {
     "data": {
      "text/plain": [
       "name: \"fill_constant_0.tmp_0\"\n",
       "type {\n",
       "  type: LOD_TENSOR\n",
       "  lod_tensor {\n",
       "    tensor {\n",
       "      data_type: INT64\n",
       "      dims: 2\n",
       "      dims: 2\n",
       "    }\n",
       "  }\n",
       "}\n",
       "persistable: false"
      ]
     },
     "execution_count": 14,
     "metadata": {},
     "output_type": "execute_result"
    }
   ],
   "source": [
    "# x1张量究竟长什么样子\n",
    "x1"
   ]
  },
  {
   "cell_type": "code",
   "execution_count": 16,
   "metadata": {},
   "outputs": [
    {
     "data": {
      "text/plain": [
       "['__add__',\n",
       " '__class__',\n",
       " '__delattr__',\n",
       " '__dict__',\n",
       " '__dir__',\n",
       " '__div__',\n",
       " '__doc__',\n",
       " '__eq__',\n",
       " '__floordiv__',\n",
       " '__format__',\n",
       " '__ge__',\n",
       " '__getattribute__',\n",
       " '__getitem__',\n",
       " '__gt__',\n",
       " '__hash__',\n",
       " '__init__',\n",
       " '__init_subclass__',\n",
       " '__le__',\n",
       " '__lt__',\n",
       " '__mod__',\n",
       " '__module__',\n",
       " '__mul__',\n",
       " '__ne__',\n",
       " '__neg__',\n",
       " '__new__',\n",
       " '__pow__',\n",
       " '__radd__',\n",
       " '__rdiv__',\n",
       " '__reduce__',\n",
       " '__reduce_ex__',\n",
       " '__repr__',\n",
       " '__rmul__',\n",
       " '__rpow__',\n",
       " '__rsub__',\n",
       " '__rtruediv__',\n",
       " '__setattr__',\n",
       " '__sizeof__',\n",
       " '__str__',\n",
       " '__sub__',\n",
       " '__subclasshook__',\n",
       " '__truediv__',\n",
       " '__weakref__',\n",
       " '_cloneVar',\n",
       " '_concatVar',\n",
       " '_detectContinuesSlice',\n",
       " '_detectEllipsis',\n",
       " '_get_info',\n",
       " '_reconstructSliceinfo',\n",
       " '_set_error_clip',\n",
       " '_set_info',\n",
       " '_sliceAndConcatVar',\n",
       " '_sliceVar',\n",
       " '_slice_indices',\n",
       " '_stop_gradient',\n",
       " 'astype',\n",
       " 'backward',\n",
       " 'belong_to_optimizer',\n",
       " 'block',\n",
       " 'clear_gradient',\n",
       " 'desc',\n",
       " 'detach',\n",
       " 'dtype',\n",
       " 'error_clip',\n",
       " 'grad_name',\n",
       " 'gradient',\n",
       " 'is_data',\n",
       " 'lod_level',\n",
       " 'name',\n",
       " 'numpy',\n",
       " 'op',\n",
       " 'persistable',\n",
       " 'set_value',\n",
       " 'shape',\n",
       " 'stop_gradient',\n",
       " 'to_string',\n",
       " 'type']"
      ]
     },
     "execution_count": 16,
     "metadata": {},
     "output_type": "execute_result"
    }
   ],
   "source": [
    "# 查看x1张量所有的属性\n",
    "dir(x1)"
   ]
  },
  {
   "cell_type": "code",
   "execution_count": 20,
   "metadata": {},
   "outputs": [
    {
     "data": {
      "text/plain": [
       "array([3, 2])"
      ]
     },
     "execution_count": 20,
     "metadata": {},
     "output_type": "execute_result"
    }
   ],
   "source": [
    "a1"
   ]
  },
  {
   "cell_type": "code",
   "execution_count": 21,
   "metadata": {},
   "outputs": [
    {
     "data": {
      "text/plain": [
       "paddle.fluid.framework.Variable"
      ]
     },
     "execution_count": 21,
     "metadata": {},
     "output_type": "execute_result"
    }
   ],
   "source": [
    "type(y)"
   ]
  },
  {
   "cell_type": "code",
   "execution_count": 22,
   "metadata": {},
   "outputs": [
    {
     "data": {
      "text/plain": [
       "paddle.fluid.framework.Variable"
      ]
     },
     "execution_count": 22,
     "metadata": {},
     "output_type": "execute_result"
    }
   ],
   "source": [
    "type(a)"
   ]
  },
  {
   "cell_type": "code",
   "execution_count": 23,
   "metadata": {},
   "outputs": [
    {
     "data": {
      "text/plain": [
       "paddle.fluid.framework.Variable"
      ]
     },
     "execution_count": 23,
     "metadata": {},
     "output_type": "execute_result"
    }
   ],
   "source": [
    "type(x1)"
   ]
  },
  {
   "cell_type": "code",
   "execution_count": 24,
   "metadata": {},
   "outputs": [
    {
     "data": {
      "text/plain": [
       "paddle.fluid.core_avx.CPUPlace"
      ]
     },
     "execution_count": 24,
     "metadata": {},
     "output_type": "execute_result"
    }
   ],
   "source": [
    "type(place)"
   ]
  },
  {
   "cell_type": "code",
   "execution_count": 25,
   "metadata": {},
   "outputs": [
    {
     "data": {
      "text/plain": [
       "paddle.fluid.executor.Executor"
      ]
     },
     "execution_count": 25,
     "metadata": {},
     "output_type": "execute_result"
    }
   ],
   "source": [
    "type(exe)"
   ]
  },
  {
   "cell_type": "markdown",
   "metadata": {},
   "source": [
    "# 使用Paddle做线性回归"
   ]
  },
  {
   "cell_type": "code",
   "execution_count": 1,
   "metadata": {},
   "outputs": [],
   "source": [
    "import paddle"
   ]
  },
  {
   "cell_type": "code",
   "execution_count": 11,
   "metadata": {},
   "outputs": [],
   "source": [
    "# 定义一个简单的线性网络\n",
    "\n",
    "# input layer size = 13 unites\n",
    "x = fluid.layers.data(name='x', shape=[13], dtype='float32')\n",
    "# hidden layer size = 100 unites\n",
    "hidden = fluid.layers.fc(input=x, size=100, act='relu')\n",
    "# output layer size = 1 unites\n",
    "net = fluid.layers.fc(input=hidden, size=1, act=None)\n",
    "\n",
    "# 定义损失函数\n",
    "# label for the dataset\n",
    "y = fluid.layers.data(name='y', shape=[1], dtype='float32')\n",
    "# cost function using square_error\n",
    "# input is the output of training network, label is y\n",
    "cost = fluid.layers.square_error_cost(input=net, label=y)\n",
    "avg_cost = fluid.layers.mean(cost)"
   ]
  },
  {
   "cell_type": "code",
   "execution_count": 12,
   "metadata": {},
   "outputs": [],
   "source": [
    "# 复制一个主程序，方便之后使用\n",
    "test_program = fluid.default_main_program().clone(for_test=True)\n",
    "\n",
    "# 克隆一个程序，训练完成之后，作为预测程序进行预测程序"
   ]
  },
  {
   "cell_type": "code",
   "execution_count": 13,
   "metadata": {},
   "outputs": [],
   "source": [
    "# 定义优化方法: 随机梯度下降优化方法\n",
    "optimizer = fluid.optimizer.SGDOptimizer(learning_rate=0.01)\n",
    "opts = optimizer.minimize(avg_cost)"
   ]
  },
  {
   "cell_type": "code",
   "execution_count": 14,
   "metadata": {},
   "outputs": [
    {
     "data": {
      "text/plain": [
       "[]"
      ]
     },
     "execution_count": 14,
     "metadata": {},
     "output_type": "execute_result"
    }
   ],
   "source": [
    "# 创建新的CPU的解释器\n",
    "place = fluid.CPUPlace()\n",
    "exe = fluid.Executor(place)\n",
    "# 进行参数初始化\n",
    "exe.run(fluid.default_startup_program())"
   ]
  },
  {
   "cell_type": "code",
   "execution_count": 15,
   "metadata": {},
   "outputs": [],
   "source": [
    "# 定义训练和测试数据\n",
    "x_data = np.array([[1.0, 0.0, 0.0, 0.0, 0.0, 0.0, 0.0, 0.0, 0.0, 0.0, 0.0, 0.0, 0.0], \n",
    "                   [2.0, 0.0, 0.0, 0.0, 0.0, 0.0, 0.0, 0.0, 0.0, 0.0, 0.0, 0.0, 0.0], \n",
    "                   [3.0, 0.0, 0.0, 0.0, 0.0, 0.0, 0.0, 0.0, 0.0, 0.0, 0.0, 0.0, 0.0], \n",
    "                   [4.0, 0.0, 0.0, 0.0, 0.0, 0.0, 0.0, 0.0, 0.0, 0.0, 0.0, 0.0, 0.0], \n",
    "                   [5.0, 0.0, 0.0, 0.0, 0.0, 0.0, 0.0, 0.0, 0.0, 0.0, 0.0, 0.0, 0.0]]).astype('float32')\n",
    "\n",
    "y_data = np.array([[3.0], [5.0], [7.0], [9.0], [11.0]]).astype('float32')\n",
    "\n",
    "test_data = np.array([[6.0, 0.0, 0.0, 0.0, 0.0, 0.0, 0.0, 0.0, 0.0, 0.0, 0.0, 0.0, 0.0]]).astype('float32')"
   ]
  },
  {
   "cell_type": "code",
   "execution_count": 22,
   "metadata": {},
   "outputs": [
    {
     "ename": "EnforceNotMet",
     "evalue": "\n\n--------------------------------------------\nC++ Call Stacks (More useful to developers):\n--------------------------------------------\n0   std::string paddle::platform::GetTraceBackString<std::string const&>(std::string const&, char const*, int)\n1   paddle::platform::EnforceNotMet::EnforceNotMet(std::string const&, char const*, int)\n2   paddle::operators::SumOp::GetExpectedKernelType(paddle::framework::ExecutionContext const&) const\n3   paddle::framework::OperatorWithKernel::ChooseKernel(paddle::framework::RuntimeContext const&, paddle::framework::Scope const&, paddle::platform::Place const&) const\n4   paddle::framework::OperatorWithKernel::RunImpl(paddle::framework::Scope const&, paddle::platform::Place const&, paddle::framework::RuntimeContext*) const\n5   paddle::framework::OperatorWithKernel::RunImpl(paddle::framework::Scope const&, paddle::platform::Place const&) const\n6   paddle::framework::OperatorBase::Run(paddle::framework::Scope const&, paddle::platform::Place const&)\n7   paddle::framework::Executor::RunPartialPreparedContext(paddle::framework::ExecutorPrepareContext*, paddle::framework::Scope*, long, long, bool, bool, bool)\n8   paddle::framework::Executor::RunPreparedContext(paddle::framework::ExecutorPrepareContext*, paddle::framework::Scope*, bool, bool, bool)\n9   paddle::framework::Executor::Run(paddle::framework::ProgramDesc const&, paddle::framework::Scope*, int, bool, bool, std::vector<std::string, std::allocator<std::string> > const&, bool, bool)\n\n------------------------------------------\nPython Call Stacks (More useful to users):\n------------------------------------------\n  File \"/home/akira/PycharmProjects/OpenAIDemo/venv/lib/python3.6/site-packages/paddle/fluid/framework.py\", line 2610, in append_op\n    attrs=kwargs.get(\"attrs\", None))\n  File \"/home/akira/PycharmProjects/OpenAIDemo/venv/lib/python3.6/site-packages/paddle/fluid/layer_helper.py\", line 43, in append_op\n    return self.main_program.current_block().append_op(*args, **kwargs)\n  File \"/home/akira/PycharmProjects/OpenAIDemo/venv/lib/python3.6/site-packages/paddle/fluid/layers/nn.py\", line 11738, in sum\n    attrs={'use_mkldnn': False})\n  File \"<ipython-input-3-ad3f45bfc4a0>\", line 8, in <module>\n    y = fluid.layers.sum(x=[a, b])\n  File \"/home/akira/PycharmProjects/OpenAIDemo/venv/lib/python3.6/site-packages/IPython/core/interactiveshell.py\", line 3343, in run_code\n    exec(code_obj, self.user_global_ns, self.user_ns)\n  File \"/home/akira/PycharmProjects/OpenAIDemo/venv/lib/python3.6/site-packages/IPython/core/interactiveshell.py\", line 3263, in run_ast_nodes\n    if (await self.run_code(code, result,  async_=asy)):\n  File \"/home/akira/PycharmProjects/OpenAIDemo/venv/lib/python3.6/site-packages/IPython/core/interactiveshell.py\", line 3072, in run_cell_async\n    interactivity=interactivity, compiler=compiler, result=result)\n  File \"/home/akira/PycharmProjects/OpenAIDemo/venv/lib/python3.6/site-packages/IPython/core/async_helpers.py\", line 68, in _pseudo_sync_runner\n    coro.send(None)\n  File \"/home/akira/PycharmProjects/OpenAIDemo/venv/lib/python3.6/site-packages/IPython/core/interactiveshell.py\", line 2895, in _run_cell\n    return runner(coro)\n  File \"/home/akira/PycharmProjects/OpenAIDemo/venv/lib/python3.6/site-packages/IPython/core/interactiveshell.py\", line 2867, in run_cell\n    raw_cell, store_history, silent, shell_futures)\n  File \"/home/akira/PycharmProjects/OpenAIDemo/venv/lib/python3.6/site-packages/ipykernel/zmqshell.py\", line 536, in run_cell\n    return super(ZMQInteractiveShell, self).run_cell(*args, **kwargs)\n  File \"/home/akira/PycharmProjects/OpenAIDemo/venv/lib/python3.6/site-packages/ipykernel/ipkernel.py\", line 306, in do_execute\n    res = shell.run_cell(code, store_history=store_history, silent=silent)\n  File \"/home/akira/PycharmProjects/OpenAIDemo/venv/lib/python3.6/site-packages/tornado/gen.py\", line 209, in wrapper\n    yielded = next(result)\n  File \"/home/akira/PycharmProjects/OpenAIDemo/venv/lib/python3.6/site-packages/ipykernel/kernelbase.py\", line 545, in execute_request\n    user_expressions, allow_stdin,\n  File \"/home/akira/PycharmProjects/OpenAIDemo/venv/lib/python3.6/site-packages/tornado/gen.py\", line 209, in wrapper\n    yielded = next(result)\n  File \"/home/akira/PycharmProjects/OpenAIDemo/venv/lib/python3.6/site-packages/ipykernel/kernelbase.py\", line 268, in dispatch_shell\n    yield gen.maybe_future(handler(stream, idents, msg))\n  File \"/home/akira/PycharmProjects/OpenAIDemo/venv/lib/python3.6/site-packages/tornado/gen.py\", line 209, in wrapper\n    yielded = next(result)\n  File \"/home/akira/PycharmProjects/OpenAIDemo/venv/lib/python3.6/site-packages/ipykernel/kernelbase.py\", line 365, in process_one\n    yield gen.maybe_future(dispatch(*args))\n  File \"/home/akira/PycharmProjects/OpenAIDemo/venv/lib/python3.6/site-packages/tornado/gen.py\", line 748, in run\n    yielded = self.gen.send(value)\n  File \"/home/akira/PycharmProjects/OpenAIDemo/venv/lib/python3.6/site-packages/tornado/gen.py\", line 787, in inner\n    self.run()\n  File \"/home/akira/PycharmProjects/OpenAIDemo/venv/lib/python3.6/site-packages/tornado/ioloop.py\", line 743, in _run_callback\n    ret = callback()\n  File \"/home/akira/PycharmProjects/OpenAIDemo/venv/lib/python3.6/site-packages/tornado/ioloop.py\", line 690, in <lambda>\n    lambda f: self._run_callback(functools.partial(callback, future))\n  File \"/usr/lib/python3.6/asyncio/events.py\", line 145, in _run\n    self._callback(*self._args)\n  File \"/usr/lib/python3.6/asyncio/base_events.py\", line 1451, in _run_once\n    handle._run()\n  File \"/usr/lib/python3.6/asyncio/base_events.py\", line 438, in run_forever\n    self._run_once()\n  File \"/home/akira/PycharmProjects/OpenAIDemo/venv/lib/python3.6/site-packages/tornado/platform/asyncio.py\", line 149, in start\n    self.asyncio_loop.run_forever()\n  File \"/home/akira/PycharmProjects/OpenAIDemo/venv/lib/python3.6/site-packages/ipykernel/kernelapp.py\", line 612, in start\n    self.io_loop.start()\n  File \"/home/akira/PycharmProjects/OpenAIDemo/venv/lib/python3.6/site-packages/traitlets/config/application.py\", line 664, in launch_instance\n    app.start()\n  File \"/home/akira/PycharmProjects/OpenAIDemo/venv/lib/python3.6/site-packages/ipykernel_launcher.py\", line 16, in <module>\n    app.launch_new_instance()\n  File \"/usr/lib/python3.6/runpy.py\", line 85, in _run_code\n    exec(code, run_globals)\n  File \"/usr/lib/python3.6/runpy.py\", line 193, in _run_module_as_main\n    \"__main__\", mod_spec)\n\n----------------------\nError Message Summary:\n----------------------\nInvalidArgumentError: Sum operator should have at least one tensor\n  [Hint: Expected dtype != -1, but received dtype:-1 == -1:-1.] at (/paddle/paddle/fluid/operators/sum_op.cc:139)\n  [operator < sum > error]",
     "output_type": "error",
     "traceback": [
      "\u001b[0;31m---------------------------------------------------------------------------\u001b[0m",
      "\u001b[0;31mEnforceNotMet\u001b[0m                             Traceback (most recent call last)",
      "\u001b[0;32m<ipython-input-22-c5723bb85249>\u001b[0m in \u001b[0;36m<module>\u001b[0;34m\u001b[0m\n\u001b[1;32m      3\u001b[0m     train_cost = exe.run(program=fluid.default_main_program(),\n\u001b[1;32m      4\u001b[0m                          \u001b[0mfeed\u001b[0m\u001b[0;34m=\u001b[0m\u001b[0;34m{\u001b[0m\u001b[0;34m'x'\u001b[0m\u001b[0;34m:\u001b[0m \u001b[0mx_data\u001b[0m\u001b[0;34m,\u001b[0m \u001b[0;34m'y'\u001b[0m\u001b[0;34m:\u001b[0m \u001b[0my_data\u001b[0m\u001b[0;34m}\u001b[0m\u001b[0;34m,\u001b[0m\u001b[0;34m\u001b[0m\u001b[0;34m\u001b[0m\u001b[0m\n\u001b[0;32m----> 5\u001b[0;31m                          fetch_list=[avg_cost])\n\u001b[0m\u001b[1;32m      6\u001b[0m     \u001b[0mprint\u001b[0m\u001b[0;34m(\u001b[0m\u001b[0;34m\"Pass: %d, Cost: %0.5f\"\u001b[0m \u001b[0;34m%\u001b[0m \u001b[0;34m(\u001b[0m\u001b[0mpass_id\u001b[0m\u001b[0;34m,\u001b[0m \u001b[0mtrain_cost\u001b[0m\u001b[0;34m[\u001b[0m\u001b[0;36m0\u001b[0m\u001b[0;34m]\u001b[0m\u001b[0;34m)\u001b[0m\u001b[0;34m)\u001b[0m\u001b[0;34m\u001b[0m\u001b[0;34m\u001b[0m\u001b[0m\n",
      "\u001b[0;32m~/PycharmProjects/OpenAIDemo/venv/lib/python3.6/site-packages/paddle/fluid/executor.py\u001b[0m in \u001b[0;36mrun\u001b[0;34m(self, program, feed, fetch_list, feed_var_name, fetch_var_name, scope, return_numpy, use_program_cache, return_merged, use_prune)\u001b[0m\n\u001b[1;32m   1069\u001b[0m                 warnings.warn(\n\u001b[1;32m   1070\u001b[0m                     \"The following exception is not an EOF exception.\")\n\u001b[0;32m-> 1071\u001b[0;31m             \u001b[0msix\u001b[0m\u001b[0;34m.\u001b[0m\u001b[0mreraise\u001b[0m\u001b[0;34m(\u001b[0m\u001b[0;34m*\u001b[0m\u001b[0msys\u001b[0m\u001b[0;34m.\u001b[0m\u001b[0mexc_info\u001b[0m\u001b[0;34m(\u001b[0m\u001b[0;34m)\u001b[0m\u001b[0;34m)\u001b[0m\u001b[0;34m\u001b[0m\u001b[0;34m\u001b[0m\u001b[0m\n\u001b[0m\u001b[1;32m   1072\u001b[0m \u001b[0;34m\u001b[0m\u001b[0m\n\u001b[1;32m   1073\u001b[0m     def _run_impl(self, program, feed, fetch_list, feed_var_name,\n",
      "\u001b[0;32m~/PycharmProjects/OpenAIDemo/venv/lib/python3.6/site-packages/six.py\u001b[0m in \u001b[0;36mreraise\u001b[0;34m(tp, value, tb)\u001b[0m\n\u001b[1;32m    701\u001b[0m             \u001b[0;32mif\u001b[0m \u001b[0mvalue\u001b[0m\u001b[0;34m.\u001b[0m\u001b[0m__traceback__\u001b[0m \u001b[0;32mis\u001b[0m \u001b[0;32mnot\u001b[0m \u001b[0mtb\u001b[0m\u001b[0;34m:\u001b[0m\u001b[0;34m\u001b[0m\u001b[0;34m\u001b[0m\u001b[0m\n\u001b[1;32m    702\u001b[0m                 \u001b[0;32mraise\u001b[0m \u001b[0mvalue\u001b[0m\u001b[0;34m.\u001b[0m\u001b[0mwith_traceback\u001b[0m\u001b[0;34m(\u001b[0m\u001b[0mtb\u001b[0m\u001b[0;34m)\u001b[0m\u001b[0;34m\u001b[0m\u001b[0;34m\u001b[0m\u001b[0m\n\u001b[0;32m--> 703\u001b[0;31m             \u001b[0;32mraise\u001b[0m \u001b[0mvalue\u001b[0m\u001b[0;34m\u001b[0m\u001b[0;34m\u001b[0m\u001b[0m\n\u001b[0m\u001b[1;32m    704\u001b[0m         \u001b[0;32mfinally\u001b[0m\u001b[0;34m:\u001b[0m\u001b[0;34m\u001b[0m\u001b[0;34m\u001b[0m\u001b[0m\n\u001b[1;32m    705\u001b[0m             \u001b[0mvalue\u001b[0m \u001b[0;34m=\u001b[0m \u001b[0;32mNone\u001b[0m\u001b[0;34m\u001b[0m\u001b[0;34m\u001b[0m\u001b[0m\n",
      "\u001b[0;32m~/PycharmProjects/OpenAIDemo/venv/lib/python3.6/site-packages/paddle/fluid/executor.py\u001b[0m in \u001b[0;36mrun\u001b[0;34m(self, program, feed, fetch_list, feed_var_name, fetch_var_name, scope, return_numpy, use_program_cache, return_merged, use_prune)\u001b[0m\n\u001b[1;32m   1064\u001b[0m                 \u001b[0muse_program_cache\u001b[0m\u001b[0;34m=\u001b[0m\u001b[0muse_program_cache\u001b[0m\u001b[0;34m,\u001b[0m\u001b[0;34m\u001b[0m\u001b[0;34m\u001b[0m\u001b[0m\n\u001b[1;32m   1065\u001b[0m                 \u001b[0muse_prune\u001b[0m\u001b[0;34m=\u001b[0m\u001b[0muse_prune\u001b[0m\u001b[0;34m,\u001b[0m\u001b[0;34m\u001b[0m\u001b[0;34m\u001b[0m\u001b[0m\n\u001b[0;32m-> 1066\u001b[0;31m                 return_merged=return_merged)\n\u001b[0m\u001b[1;32m   1067\u001b[0m         \u001b[0;32mexcept\u001b[0m \u001b[0mException\u001b[0m \u001b[0;32mas\u001b[0m \u001b[0me\u001b[0m\u001b[0;34m:\u001b[0m\u001b[0;34m\u001b[0m\u001b[0;34m\u001b[0m\u001b[0m\n\u001b[1;32m   1068\u001b[0m             \u001b[0;32mif\u001b[0m \u001b[0;32mnot\u001b[0m \u001b[0misinstance\u001b[0m\u001b[0;34m(\u001b[0m\u001b[0me\u001b[0m\u001b[0;34m,\u001b[0m \u001b[0mcore\u001b[0m\u001b[0;34m.\u001b[0m\u001b[0mEOFException\u001b[0m\u001b[0;34m)\u001b[0m\u001b[0;34m:\u001b[0m\u001b[0;34m\u001b[0m\u001b[0;34m\u001b[0m\u001b[0m\n",
      "\u001b[0;32m~/PycharmProjects/OpenAIDemo/venv/lib/python3.6/site-packages/paddle/fluid/executor.py\u001b[0m in \u001b[0;36m_run_impl\u001b[0;34m(self, program, feed, fetch_list, feed_var_name, fetch_var_name, scope, return_numpy, use_program_cache, return_merged, use_prune)\u001b[0m\n\u001b[1;32m   1152\u001b[0m                 \u001b[0mscope\u001b[0m\u001b[0;34m=\u001b[0m\u001b[0mscope\u001b[0m\u001b[0;34m,\u001b[0m\u001b[0;34m\u001b[0m\u001b[0;34m\u001b[0m\u001b[0m\n\u001b[1;32m   1153\u001b[0m                 \u001b[0mreturn_numpy\u001b[0m\u001b[0;34m=\u001b[0m\u001b[0mreturn_numpy\u001b[0m\u001b[0;34m,\u001b[0m\u001b[0;34m\u001b[0m\u001b[0;34m\u001b[0m\u001b[0m\n\u001b[0;32m-> 1154\u001b[0;31m                 use_program_cache=use_program_cache)\n\u001b[0m\u001b[1;32m   1155\u001b[0m \u001b[0;34m\u001b[0m\u001b[0m\n\u001b[1;32m   1156\u001b[0m         \u001b[0mprogram\u001b[0m\u001b[0;34m.\u001b[0m\u001b[0m_compile\u001b[0m\u001b[0;34m(\u001b[0m\u001b[0mscope\u001b[0m\u001b[0;34m,\u001b[0m \u001b[0mself\u001b[0m\u001b[0;34m.\u001b[0m\u001b[0mplace\u001b[0m\u001b[0;34m)\u001b[0m\u001b[0;34m\u001b[0m\u001b[0;34m\u001b[0m\u001b[0m\n",
      "\u001b[0;32m~/PycharmProjects/OpenAIDemo/venv/lib/python3.6/site-packages/paddle/fluid/executor.py\u001b[0m in \u001b[0;36m_run_program\u001b[0;34m(self, program, feed, fetch_list, feed_var_name, fetch_var_name, scope, return_numpy, use_program_cache)\u001b[0m\n\u001b[1;32m   1227\u001b[0m         \u001b[0;32mif\u001b[0m \u001b[0;32mnot\u001b[0m \u001b[0muse_program_cache\u001b[0m\u001b[0;34m:\u001b[0m\u001b[0;34m\u001b[0m\u001b[0;34m\u001b[0m\u001b[0m\n\u001b[1;32m   1228\u001b[0m             self._default_executor.run(program.desc, scope, 0, True, True,\n\u001b[0;32m-> 1229\u001b[0;31m                                        fetch_var_name)\n\u001b[0m\u001b[1;32m   1230\u001b[0m         \u001b[0;32melse\u001b[0m\u001b[0;34m:\u001b[0m\u001b[0;34m\u001b[0m\u001b[0;34m\u001b[0m\u001b[0m\n\u001b[1;32m   1231\u001b[0m             self._default_executor.run_prepared_ctx(ctx, scope, False, False,\n",
      "\u001b[0;31mEnforceNotMet\u001b[0m: \n\n--------------------------------------------\nC++ Call Stacks (More useful to developers):\n--------------------------------------------\n0   std::string paddle::platform::GetTraceBackString<std::string const&>(std::string const&, char const*, int)\n1   paddle::platform::EnforceNotMet::EnforceNotMet(std::string const&, char const*, int)\n2   paddle::operators::SumOp::GetExpectedKernelType(paddle::framework::ExecutionContext const&) const\n3   paddle::framework::OperatorWithKernel::ChooseKernel(paddle::framework::RuntimeContext const&, paddle::framework::Scope const&, paddle::platform::Place const&) const\n4   paddle::framework::OperatorWithKernel::RunImpl(paddle::framework::Scope const&, paddle::platform::Place const&, paddle::framework::RuntimeContext*) const\n5   paddle::framework::OperatorWithKernel::RunImpl(paddle::framework::Scope const&, paddle::platform::Place const&) const\n6   paddle::framework::OperatorBase::Run(paddle::framework::Scope const&, paddle::platform::Place const&)\n7   paddle::framework::Executor::RunPartialPreparedContext(paddle::framework::ExecutorPrepareContext*, paddle::framework::Scope*, long, long, bool, bool, bool)\n8   paddle::framework::Executor::RunPreparedContext(paddle::framework::ExecutorPrepareContext*, paddle::framework::Scope*, bool, bool, bool)\n9   paddle::framework::Executor::Run(paddle::framework::ProgramDesc const&, paddle::framework::Scope*, int, bool, bool, std::vector<std::string, std::allocator<std::string> > const&, bool, bool)\n\n------------------------------------------\nPython Call Stacks (More useful to users):\n------------------------------------------\n  File \"/home/akira/PycharmProjects/OpenAIDemo/venv/lib/python3.6/site-packages/paddle/fluid/framework.py\", line 2610, in append_op\n    attrs=kwargs.get(\"attrs\", None))\n  File \"/home/akira/PycharmProjects/OpenAIDemo/venv/lib/python3.6/site-packages/paddle/fluid/layer_helper.py\", line 43, in append_op\n    return self.main_program.current_block().append_op(*args, **kwargs)\n  File \"/home/akira/PycharmProjects/OpenAIDemo/venv/lib/python3.6/site-packages/paddle/fluid/layers/nn.py\", line 11738, in sum\n    attrs={'use_mkldnn': False})\n  File \"<ipython-input-3-ad3f45bfc4a0>\", line 8, in <module>\n    y = fluid.layers.sum(x=[a, b])\n  File \"/home/akira/PycharmProjects/OpenAIDemo/venv/lib/python3.6/site-packages/IPython/core/interactiveshell.py\", line 3343, in run_code\n    exec(code_obj, self.user_global_ns, self.user_ns)\n  File \"/home/akira/PycharmProjects/OpenAIDemo/venv/lib/python3.6/site-packages/IPython/core/interactiveshell.py\", line 3263, in run_ast_nodes\n    if (await self.run_code(code, result,  async_=asy)):\n  File \"/home/akira/PycharmProjects/OpenAIDemo/venv/lib/python3.6/site-packages/IPython/core/interactiveshell.py\", line 3072, in run_cell_async\n    interactivity=interactivity, compiler=compiler, result=result)\n  File \"/home/akira/PycharmProjects/OpenAIDemo/venv/lib/python3.6/site-packages/IPython/core/async_helpers.py\", line 68, in _pseudo_sync_runner\n    coro.send(None)\n  File \"/home/akira/PycharmProjects/OpenAIDemo/venv/lib/python3.6/site-packages/IPython/core/interactiveshell.py\", line 2895, in _run_cell\n    return runner(coro)\n  File \"/home/akira/PycharmProjects/OpenAIDemo/venv/lib/python3.6/site-packages/IPython/core/interactiveshell.py\", line 2867, in run_cell\n    raw_cell, store_history, silent, shell_futures)\n  File \"/home/akira/PycharmProjects/OpenAIDemo/venv/lib/python3.6/site-packages/ipykernel/zmqshell.py\", line 536, in run_cell\n    return super(ZMQInteractiveShell, self).run_cell(*args, **kwargs)\n  File \"/home/akira/PycharmProjects/OpenAIDemo/venv/lib/python3.6/site-packages/ipykernel/ipkernel.py\", line 306, in do_execute\n    res = shell.run_cell(code, store_history=store_history, silent=silent)\n  File \"/home/akira/PycharmProjects/OpenAIDemo/venv/lib/python3.6/site-packages/tornado/gen.py\", line 209, in wrapper\n    yielded = next(result)\n  File \"/home/akira/PycharmProjects/OpenAIDemo/venv/lib/python3.6/site-packages/ipykernel/kernelbase.py\", line 545, in execute_request\n    user_expressions, allow_stdin,\n  File \"/home/akira/PycharmProjects/OpenAIDemo/venv/lib/python3.6/site-packages/tornado/gen.py\", line 209, in wrapper\n    yielded = next(result)\n  File \"/home/akira/PycharmProjects/OpenAIDemo/venv/lib/python3.6/site-packages/ipykernel/kernelbase.py\", line 268, in dispatch_shell\n    yield gen.maybe_future(handler(stream, idents, msg))\n  File \"/home/akira/PycharmProjects/OpenAIDemo/venv/lib/python3.6/site-packages/tornado/gen.py\", line 209, in wrapper\n    yielded = next(result)\n  File \"/home/akira/PycharmProjects/OpenAIDemo/venv/lib/python3.6/site-packages/ipykernel/kernelbase.py\", line 365, in process_one\n    yield gen.maybe_future(dispatch(*args))\n  File \"/home/akira/PycharmProjects/OpenAIDemo/venv/lib/python3.6/site-packages/tornado/gen.py\", line 748, in run\n    yielded = self.gen.send(value)\n  File \"/home/akira/PycharmProjects/OpenAIDemo/venv/lib/python3.6/site-packages/tornado/gen.py\", line 787, in inner\n    self.run()\n  File \"/home/akira/PycharmProjects/OpenAIDemo/venv/lib/python3.6/site-packages/tornado/ioloop.py\", line 743, in _run_callback\n    ret = callback()\n  File \"/home/akira/PycharmProjects/OpenAIDemo/venv/lib/python3.6/site-packages/tornado/ioloop.py\", line 690, in <lambda>\n    lambda f: self._run_callback(functools.partial(callback, future))\n  File \"/usr/lib/python3.6/asyncio/events.py\", line 145, in _run\n    self._callback(*self._args)\n  File \"/usr/lib/python3.6/asyncio/base_events.py\", line 1451, in _run_once\n    handle._run()\n  File \"/usr/lib/python3.6/asyncio/base_events.py\", line 438, in run_forever\n    self._run_once()\n  File \"/home/akira/PycharmProjects/OpenAIDemo/venv/lib/python3.6/site-packages/tornado/platform/asyncio.py\", line 149, in start\n    self.asyncio_loop.run_forever()\n  File \"/home/akira/PycharmProjects/OpenAIDemo/venv/lib/python3.6/site-packages/ipykernel/kernelapp.py\", line 612, in start\n    self.io_loop.start()\n  File \"/home/akira/PycharmProjects/OpenAIDemo/venv/lib/python3.6/site-packages/traitlets/config/application.py\", line 664, in launch_instance\n    app.start()\n  File \"/home/akira/PycharmProjects/OpenAIDemo/venv/lib/python3.6/site-packages/ipykernel_launcher.py\", line 16, in <module>\n    app.launch_new_instance()\n  File \"/usr/lib/python3.6/runpy.py\", line 85, in _run_code\n    exec(code, run_globals)\n  File \"/usr/lib/python3.6/runpy.py\", line 193, in _run_module_as_main\n    \"__main__\", mod_spec)\n\n----------------------\nError Message Summary:\n----------------------\nInvalidArgumentError: Sum operator should have at least one tensor\n  [Hint: Expected dtype != -1, but received dtype:-1 == -1:-1.] at (/paddle/paddle/fluid/operators/sum_op.cc:139)\n  [operator < sum > error]"
     ]
    }
   ],
   "source": [
    "# 开始训练\n",
    "for pass_id in range(10):\n",
    "    train_cost = exe.run(program=fluid.default_main_program(),\n",
    "                         feed={'x': x_data, 'y': y_data},\n",
    "                         fetch_list=[avg_cost])\n",
    "    print(\"Pass: %d, Cost: %0.5f\" % (pass_id, train_cost[0]))"
   ]
  },
  {
   "cell_type": "markdown",
   "metadata": {},
   "source": [
    "上面的这个问题没什么有效的办法解决，怎么办，等到明天再看看吧。。。"
   ]
  },
  {
   "cell_type": "code",
   "execution_count": 19,
   "metadata": {},
   "outputs": [
    {
     "data": {
      "text/plain": [
       "paddle.fluid.framework.Variable"
      ]
     },
     "execution_count": 19,
     "metadata": {},
     "output_type": "execute_result"
    }
   ],
   "source": [
    "type(avg_cost)"
   ]
  },
  {
   "cell_type": "code",
   "execution_count": 20,
   "metadata": {},
   "outputs": [
    {
     "data": {
      "text/plain": [
       "[name: \"mean_2.tmp_0\"\n",
       " type {\n",
       "   type: LOD_TENSOR\n",
       "   lod_tensor {\n",
       "     tensor {\n",
       "       data_type: FP32\n",
       "       dims: 1\n",
       "     }\n",
       "   }\n",
       " }\n",
       " persistable: false]"
      ]
     },
     "execution_count": 20,
     "metadata": {},
     "output_type": "execute_result"
    }
   ],
   "source": [
    "[avg_cost]"
   ]
  },
  {
   "cell_type": "code",
   "execution_count": null,
   "metadata": {},
   "outputs": [],
   "source": []
  }
 ],
 "metadata": {
  "kernelspec": {
   "display_name": "Python 3",
   "language": "python",
   "name": "python3"
  },
  "language_info": {
   "codemirror_mode": {
    "name": "ipython",
    "version": 3
   },
   "file_extension": ".py",
   "mimetype": "text/x-python",
   "name": "python",
   "nbconvert_exporter": "python",
   "pygments_lexer": "ipython3",
   "version": "3.6.9"
  }
 },
 "nbformat": 4,
 "nbformat_minor": 4
}
