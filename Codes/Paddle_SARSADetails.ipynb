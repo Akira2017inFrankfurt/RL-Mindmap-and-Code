{
 "cells": [
  {
   "cell_type": "code",
   "execution_count": 2,
   "metadata": {},
   "outputs": [
    {
     "name": "stdout",
     "output_type": "stream",
     "text": [
      "/home/akira/PycharmProjects/OpenAIDemo\n"
     ]
    }
   ],
   "source": [
    "# 首先是需要安装那个文件gridworld.py\n",
    "# 下载下来了，然后需要确定文件在的工作目录\n",
    "# 接着就是判断能否正确导入\n",
    "\n",
    "import os\n",
    "print(os.getcwd())"
   ]
  },
  {
   "cell_type": "code",
   "execution_count": 3,
   "metadata": {},
   "outputs": [],
   "source": [
    "import gridworld"
   ]
  },
  {
   "cell_type": "code",
   "execution_count": 2,
   "metadata": {},
   "outputs": [],
   "source": [
    "import tkinter\n",
    "\n",
    "# 这里一开始总是出现问题\n",
    "# sudo apt-get install python3-tk \n",
    "# 在命令行里面运行这个 安装对应py3版本的tkinter库文件\n",
    "# 否则 上面那个gridworld文件会报错"
   ]
  },
  {
   "cell_type": "code",
   "execution_count": 4,
   "metadata": {},
   "outputs": [],
   "source": [
    "import gym\n",
    "import numpy as np\n",
    "\n",
    "\n",
    "obs_n = 4\n",
    "act_n = 4"
   ]
  },
  {
   "cell_type": "code",
   "execution_count": 5,
   "metadata": {},
   "outputs": [],
   "source": [
    "Q = np.zeros((obs_n, act_n))"
   ]
  },
  {
   "cell_type": "code",
   "execution_count": 6,
   "metadata": {},
   "outputs": [
    {
     "data": {
      "text/plain": [
       "array([[0., 0., 0., 0.],\n",
       "       [0., 0., 0., 0.],\n",
       "       [0., 0., 0., 0.],\n",
       "       [0., 0., 0., 0.]])"
      ]
     },
     "execution_count": 6,
     "metadata": {},
     "output_type": "execute_result"
    }
   ],
   "source": [
    "Q"
   ]
  },
  {
   "cell_type": "code",
   "execution_count": 8,
   "metadata": {
    "scrolled": true
   },
   "outputs": [
    {
     "name": "stdout",
     "output_type": "stream",
     "text": [
      "[[ 1.  2.  3.  4.]\n",
      " [ 5.  6.  7.  8.]\n",
      " [ 9. 10. 11. 12.]\n",
      " [13. 14. 15. 16.]]\n"
     ]
    }
   ],
   "source": [
    "t = 1\n",
    "\n",
    "for i in range(obs_n):\n",
    "    for j in range(act_n):\n",
    "        Q[i][j] = t\n",
    "        t += 1\n",
    "\n",
    "print(Q)"
   ]
  },
  {
   "cell_type": "code",
   "execution_count": 10,
   "metadata": {},
   "outputs": [
    {
     "name": "stdout",
     "output_type": "stream",
     "text": [
      "[ 9. 10. 11. 12.]\n"
     ]
    }
   ],
   "source": [
    "obs_t = 2\n",
    "Q_list = Q[obs_t, :]\n",
    "print(Q_list)"
   ]
  },
  {
   "cell_type": "code",
   "execution_count": 12,
   "metadata": {},
   "outputs": [
    {
     "name": "stdout",
     "output_type": "stream",
     "text": [
      "12.0 <class 'numpy.float64'>\n"
     ]
    }
   ],
   "source": [
    "maxQ = np.max(Q_list)\n",
    "print(maxQ, type(maxQ))"
   ]
  },
  {
   "cell_type": "code",
   "execution_count": 13,
   "metadata": {},
   "outputs": [],
   "source": [
    "action_list = np.where(Q_list == maxQ)[0]"
   ]
  },
  {
   "cell_type": "code",
   "execution_count": 14,
   "metadata": {},
   "outputs": [
    {
     "data": {
      "text/plain": [
       "array([3])"
      ]
     },
     "execution_count": 14,
     "metadata": {},
     "output_type": "execute_result"
    }
   ],
   "source": [
    "action_list"
   ]
  },
  {
   "cell_type": "markdown",
   "metadata": {},
   "source": [
    "好的 现在明白了\n",
    "其实找到的值就是动作本身！\n",
    "剩下的好理解了，其实就是选择这个state下面奖励最多的那个action\n",
    "同样奖励的action可能也不止一个，所以从这些中随机选择一个。\n",
    "可能是我先看的sarsa，所以觉得它比ql的要简单\n",
    "但是好像不是，我现在对sarsa的理解到位了，但是ql的还是不够\n",
    "\n",
    "顺便看了一下，这个项目后面的几个作业都还蛮不错的\n",
    "有意思，想要做到！\n",
    "顺便把这几个算法好好理解下！\n",
    "\n",
    "用sample而不用predict的原因：\n",
    "1 一开始的Q值是不准确的\n",
    "2 有一定的随机性才能寻找出最佳路径来：保证其他的动作有一定的可能性被选出来\n"
   ]
  }
 ],
 "metadata": {
  "kernelspec": {
   "display_name": "Python 3",
   "language": "python",
   "name": "python3"
  },
  "language_info": {
   "codemirror_mode": {
    "name": "ipython",
    "version": 3
   },
   "file_extension": ".py",
   "mimetype": "text/x-python",
   "name": "python",
   "nbconvert_exporter": "python",
   "pygments_lexer": "ipython3",
   "version": "3.6.9"
  }
 },
 "nbformat": 4,
 "nbformat_minor": 4
}
